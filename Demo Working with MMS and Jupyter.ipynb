{
 "cells": [
  {
   "cell_type": "code",
   "execution_count": 1,
   "metadata": {},
   "outputs": [],
   "source": [
    "import getpass\n",
    "import json\n",
    "from pprint import pprint\n",
    "from mms_python_adapter import MMSAdapter"
   ]
  },
  {
   "cell_type": "code",
   "execution_count": 8,
   "metadata": {},
   "outputs": [],
   "source": [
    "# Set Server and Project Settings\n",
    "# MBVnV Project Example\n",
    "server = 'https://mms.openmbee.org/alfresco/service/'\n",
    "projectID = 'PROJECT-3b62403a-e2e9-4301-a866-5d44c019c249'\n",
    "\n",
    "# Branch\n",
    "refID = 'master'\n",
    "\n",
    "# Create the Adapter\n",
    "adap = MMSAdapter(server, projectID, refID)"
   ]
  },
  {
   "cell_type": "code",
   "execution_count": 11,
   "metadata": {},
   "outputs": [
    {
     "name": "stdout",
     "output_type": "stream",
     "text": [
      "········\n"
     ]
    },
    {
     "data": {
      "text/plain": [
       "'Logged in as dkarlsson'"
      ]
     },
     "execution_count": 11,
     "metadata": {},
     "output_type": "execute_result"
    }
   ],
   "source": [
    "# Set Credentials\n",
    "user = 'dkarlsson'\n",
    "password = getpass.getpass()\n",
    "adap.login(user,password)"
   ]
  },
  {
   "cell_type": "code",
   "execution_count": 13,
   "metadata": {
    "scrolled": true
   },
   "outputs": [
    {
     "data": {
      "text/plain": [
       "{'comment': None,\n",
       " 'elements': [{'_appliedStereotypeIds': [],\n",
       "               '_commitId': '159a01ab-bc79-4385-bad3-620fbc85102e',\n",
       "               '_created': '2020-12-22T17:02:39.046+0000',\n",
       "               '_creator': 'dkarlsson',\n",
       "               '_editable': True,\n",
       "               '_elasticId': 'e17e7e95-30e0-417c-8502-237c18201414',\n",
       "               '_inRefIds': ['master'],\n",
       "               '_modified': '2020-12-22T17:19:01.494+0000',\n",
       "               '_modifier': 'dkarlsson',\n",
       "               '_projectId': 'PROJECT-3b62403a-e2e9-4301-a866-5d44c019c249',\n",
       "               '_refId': 'master',\n",
       "               'appliedStereotypeInstanceId': None,\n",
       "               'classifierIds': ['_17_0_5_1_407019f_1431903758416_800749_12055'],\n",
       "               'clientDependencyIds': [],\n",
       "               'deploymentIds': [],\n",
       "               'documentation': 'This is some extra documentation modification',\n",
       "               'id': '_hidden_MMS_1608656558996_88b335d1-cfc1-4b1f-b79f-6c53d71bb8e3_pei',\n",
       "               'mdExtensionsIds': [],\n",
       "               'name': 'View Paragraph',\n",
       "               'nameExpression': None,\n",
       "               'ownerId': 'view_instances_bin_PROJECT-3b62403a-e2e9-4301-a866-5d44c019c249',\n",
       "               'slotIds': [],\n",
       "               'specification': {'_appliedStereotypeIds': [],\n",
       "                                 'appliedStereotypeInstanceId': None,\n",
       "                                 'clientDependencyIds': [],\n",
       "                                 'documentation': '',\n",
       "                                 'id': 'MMS_1608656558996_93a06f09-d279-43fe-b5d0-7978be82a8d3',\n",
       "                                 'mdExtensionsIds': [],\n",
       "                                 'name': '',\n",
       "                                 'nameExpression': None,\n",
       "                                 'ownerId': '_hidden_MMS_1608656558996_88b335d1-cfc1-4b1f-b79f-6c53d71bb8e3_pei',\n",
       "                                 'supplierDependencyIds': [],\n",
       "                                 'syncElementId': None,\n",
       "                                 'templateParameterId': None,\n",
       "                                 'type': 'LiteralString',\n",
       "                                 'typeId': None,\n",
       "                                 'value': '{\"type\":\"Paragraph\",\"sourceType\":\"reference\",\"source\":\"_hidden_MMS_1608656558996_88b335d1-cfc1-4b1f-b79f-6c53d71bb8e3_pei\",\"sourceProperty\":\"documentation\"}',\n",
       "                                 'visibility': 'public'},\n",
       "               'stereotypedElementId': None,\n",
       "               'supplierDependencyIds': [],\n",
       "               'syncElementId': None,\n",
       "               'templateParameterId': None,\n",
       "               'type': 'InstanceSpecification',\n",
       "               'visibility': 'public'}],\n",
       " 'rejected': [],\n",
       " 'source': None}"
      ]
     },
     "execution_count": 13,
     "metadata": {},
     "output_type": "execute_result"
    }
   ],
   "source": [
    "# Example Update Documentation\n",
    "# https://mms.openmbee.org/alfresco/mmsapp/mms.html#/projects/PROJECT-3b62403a-e2e9-4301-a866-5d44c019c249/master/documents/_19_0_3_3fe019f_1607448423949_970200_457/views/_19_0_3_3fe019f_1607448423949_970200_457\n",
    "\"\"\"\n",
    "View 1: MMS_1608656558996_8922690a-8e18-418b-93bf-fad8085b99dc\n",
    "View 2: MMS_1608656580618_a8688b9e-4bb3-482b-ac40-67ea59b98d25\n",
    "View 3: MMS_1608656585648_37f18bf8-ab33-41d1-b074-c968444327fb\n",
    "View 4: MMS_1608656596583_a2299653-e486-497c-b627-075c2304079e\n",
    "View 5: MMS_1608656601626_83deeb14-6b53-4adc-893d-9b4a13d5d7ca\n",
    "\"\"\"\n",
    "\n",
    "doc_id = \"_hidden_MMS_1608656558996_88b335d1-cfc1-4b1f-b79f-6c53d71bb8e3_pei\"\n",
    "adap.update_element_documentation(doc_id, \"This is some extra documentation modification\")"
   ]
  },
  {
   "cell_type": "code",
   "execution_count": 18,
   "metadata": {
    "scrolled": true
   },
   "outputs": [
    {
     "data": {
      "text/plain": [
       "{'comment': None,\n",
       " 'elements': [{'_commitId': 'f385a0c8-3676-420c-a5f9-24517edf32dc',\n",
       "               '_created': '2020-12-22T17:38:36.730+0000',\n",
       "               '_creator': 'dkarlsson',\n",
       "               '_editable': True,\n",
       "               '_elasticId': '3de923e8-4068-455a-bbcb-fd8dc81ee147',\n",
       "               '_inRefIds': ['master'],\n",
       "               '_modified': '2020-12-22T17:38:36.730+0000',\n",
       "               '_modifier': 'dkarlsson',\n",
       "               '_projectId': 'PROJECT-3b62403a-e2e9-4301-a866-5d44c019c249',\n",
       "               '_refId': 'master',\n",
       "               'id': 'MMS_1608658716730_f1816d98-3eb7-41bc-b99c-971bbdc72c65',\n",
       "               'name': None,\n",
       "               'ownerId': 'holding_bin_PROJECT-3b62403a-e2e9-4301-a866-5d44c019c249'}],\n",
       " 'rejected': [],\n",
       " 'source': None}"
      ]
     },
     "execution_count": 18,
     "metadata": {},
     "output_type": "execute_result"
    }
   ],
   "source": [
    "# Example Update Element Name\n",
    "doc_id = \"_hidden_MMS_1608658660619_5ba58fd6-cd62-4e52-a241-e6e7a0757e42_pei\"\n",
    "adap.update_element_name(doc_id, \"New Name\")"
   ]
  },
  {
   "cell_type": "code",
   "execution_count": 17,
   "metadata": {},
   "outputs": [
    {
     "data": {
      "text/plain": [
       "{'comment': None,\n",
       " 'elements': [{'_appliedStereotypeIds': [],\n",
       "               '_commitId': '38fea35e-5e5d-43c8-8fc1-64f39685d181',\n",
       "               '_created': '2020-12-22T17:37:40.670+0000',\n",
       "               '_creator': 'dkarlsson',\n",
       "               '_editable': True,\n",
       "               '_elasticId': '70a9d760-088f-4ac7-a24c-0e4827551abf',\n",
       "               '_inRefIds': ['master'],\n",
       "               '_modified': '2020-12-22T17:37:56.255+0000',\n",
       "               '_modifier': 'dkarlsson',\n",
       "               '_projectId': 'PROJECT-3b62403a-e2e9-4301-a866-5d44c019c249',\n",
       "               '_refId': 'master',\n",
       "               'appliedStereotypeInstanceId': None,\n",
       "               'classifierIds': ['_17_0_5_1_407019f_1431903724067_825986_11992'],\n",
       "               'clientDependencyIds': [],\n",
       "               'deploymentIds': [],\n",
       "               'documentation': '<table>\\n'\n",
       "                                '  <tr>\\n'\n",
       "                                '    <th>Company</th>\\n'\n",
       "                                '    <th>Contact</th>\\n'\n",
       "                                '    <th>Country</th>\\n'\n",
       "                                '  </tr>\\n'\n",
       "                                '  <tr>\\n'\n",
       "                                '    <td>Alfreds Futterkiste</td>\\n'\n",
       "                                '    <td>Maria Anders</td>\\n'\n",
       "                                '    <td>Germany</td>\\n'\n",
       "                                '  </tr>\\n'\n",
       "                                '  <tr>\\n'\n",
       "                                '    <td>Centro comercial Moctezuma</td>\\n'\n",
       "                                '    <td>Francisco Chang</td>\\n'\n",
       "                                '    <td>Mexico</td>\\n'\n",
       "                                '  </tr>\\n'\n",
       "                                '  <tr>\\n'\n",
       "                                '    <td>Ernst Handel</td>\\n'\n",
       "                                '    <td>Roland Mendel</td>\\n'\n",
       "                                '    <td>Austria</td>\\n'\n",
       "                                '  </tr>\\n'\n",
       "                                '  <tr>\\n'\n",
       "                                '    <td>Island Trading</td>\\n'\n",
       "                                '    <td>Helen Bennett</td>\\n'\n",
       "                                '    <td>UK</td>\\n'\n",
       "                                '  </tr>\\n'\n",
       "                                '  <tr>\\n'\n",
       "                                '    <td>Laughing Bacchus Winecellars</td>\\n'\n",
       "                                '    <td>Yoshi Tannamuri</td>\\n'\n",
       "                                '    <td>Canada</td>\\n'\n",
       "                                '  </tr>\\n'\n",
       "                                '  <tr>\\n'\n",
       "                                '    <td>Magazzini Alimentari Riuniti</td>\\n'\n",
       "                                '    <td>Giovanni Rovelli</td>\\n'\n",
       "                                '    <td>Italy</td>\\n'\n",
       "                                '  </tr>\\n'\n",
       "                                '</table>',\n",
       "               'id': '_hidden_MMS_1608658660619_5ba58fd6-cd62-4e52-a241-e6e7a0757e42_pei',\n",
       "               'mdExtensionsIds': [],\n",
       "               'name': 'Untitled Table',\n",
       "               'nameExpression': None,\n",
       "               'ownerId': 'view_instances_bin_PROJECT-3b62403a-e2e9-4301-a866-5d44c019c249',\n",
       "               'slotIds': [],\n",
       "               'specification': {'_appliedStereotypeIds': [],\n",
       "                                 'appliedStereotypeInstanceId': None,\n",
       "                                 'clientDependencyIds': [],\n",
       "                                 'documentation': '',\n",
       "                                 'id': 'MMS_1608658660619_d8f60562-05cd-4bc9-9463-a1620eb44e98',\n",
       "                                 'mdExtensionsIds': [],\n",
       "                                 'name': '',\n",
       "                                 'nameExpression': None,\n",
       "                                 'ownerId': '_hidden_MMS_1608658660619_5ba58fd6-cd62-4e52-a241-e6e7a0757e42_pei',\n",
       "                                 'supplierDependencyIds': [],\n",
       "                                 'syncElementId': None,\n",
       "                                 'templateParameterId': None,\n",
       "                                 'type': 'LiteralString',\n",
       "                                 'typeId': None,\n",
       "                                 'value': '{\"type\":\"TableT\",\"sourceType\":\"reference\",\"source\":\"_hidden_MMS_1608658660619_5ba58fd6-cd62-4e52-a241-e6e7a0757e42_pei\",\"sourceProperty\":\"documentation\"}',\n",
       "                                 'visibility': 'public'},\n",
       "               'stereotypedElementId': None,\n",
       "               'supplierDependencyIds': [],\n",
       "               'syncElementId': None,\n",
       "               'templateParameterId': None,\n",
       "               'type': 'InstanceSpecification',\n",
       "               'visibility': 'public'}],\n",
       " 'rejected': [],\n",
       " 'source': None}"
      ]
     },
     "execution_count": 17,
     "metadata": {},
     "output_type": "execute_result"
    }
   ],
   "source": [
    "example_table = \"\"\"<table>\n",
    "  <tr>\n",
    "    <th>Company</th>\n",
    "    <th>Contact</th>\n",
    "    <th>Country</th>\n",
    "  </tr>\n",
    "  <tr>\n",
    "    <td>Alfreds Futterkiste</td>\n",
    "    <td>Maria Anders</td>\n",
    "    <td>Germany</td>\n",
    "  </tr>\n",
    "  <tr>\n",
    "    <td>Centro comercial Moctezuma</td>\n",
    "    <td>Francisco Chang</td>\n",
    "    <td>Mexico</td>\n",
    "  </tr>\n",
    "  <tr>\n",
    "    <td>Ernst Handel</td>\n",
    "    <td>Roland Mendel</td>\n",
    "    <td>Austria</td>\n",
    "  </tr>\n",
    "  <tr>\n",
    "    <td>Island Trading</td>\n",
    "    <td>Helen Bennett</td>\n",
    "    <td>UK</td>\n",
    "  </tr>\n",
    "  <tr>\n",
    "    <td>Laughing Bacchus Winecellars</td>\n",
    "    <td>Yoshi Tannamuri</td>\n",
    "    <td>Canada</td>\n",
    "  </tr>\n",
    "  <tr>\n",
    "    <td>Magazzini Alimentari Riuniti</td>\n",
    "    <td>Giovanni Rovelli</td>\n",
    "    <td>Italy</td>\n",
    "  </tr>\n",
    "</table>\"\"\"\n",
    "\n",
    "section_id = \"_hidden_MMS_1608658660619_5ba58fd6-cd62-4e52-a241-e6e7a0757e42_pei\"\n",
    "adap.publish_table(section_id, example_table)"
   ]
  }
 ],
 "metadata": {
  "kernelspec": {
   "display_name": "Python 3",
   "language": "python",
   "name": "python3"
  },
  "language_info": {
   "codemirror_mode": {
    "name": "ipython",
    "version": 3
   },
   "file_extension": ".py",
   "mimetype": "text/x-python",
   "name": "python",
   "nbconvert_exporter": "python",
   "pygments_lexer": "ipython3",
   "version": "3.7.3"
  }
 },
 "nbformat": 4,
 "nbformat_minor": 2
}
